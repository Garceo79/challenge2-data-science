{
  "nbformat": 4,
  "nbformat_minor": 0,
  "metadata": {
    "colab": {
      "provenance": []
    },
    "kernelspec": {
      "name": "python3",
      "display_name": "Python 3"
    },
    "language_info": {
      "name": "python"
    }
  },
  "cells": [
    {
      "cell_type": "markdown",
      "source": [
        "# 🗒️​Introducción(Problema)"
      ],
      "metadata": {
        "id": "l2IyotQ70cwy"
      }
    },
    {
      "cell_type": "markdown",
      "source": [
        "Imagina que eres asistente de análisis de datos en Telecom X y formas parte del proyecto \"Churn de Clientes\". La empresa enfrenta una alta tasa de cancelaciones y necesita comprender los factores que llevan a la pérdida de clientes.\n",
        "\n",
        "Tu desafío será recopilar, procesar y analizar los datos, utilizando Python y sus principales bibliotecas para extraer información valiosa. A partir de tu análisis, el equipo de Data Science podrá avanzar en modelos predictivos y desarrollar estrategias para reducir la evasión.\n",
        "\n",
        "En este ejercicio se aplicarán las siguientes tecnicas:\n",
        "\n",
        "✅ Importar y manipular datos desde una API de manera eficiente.<br/>\n",
        "✅ Aplicar los conceptos de ETL (Extracción, Transformación y Carga) en la preparación de los datos.<br/>\n",
        "✅ Crear visualizaciones estratégicas para identificar patrones y tendencias.<br/>\n",
        "✅ Realizar un Análisis Exploratorio de Datos (EDA) y generar un informe con insights relevantes."
      ],
      "metadata": {
        "id": "Har-WKTmzz12"
      }
    },
    {
      "cell_type": "markdown",
      "source": [
        "#📌 Extracción"
      ],
      "metadata": {
        "id": "4foVEKhrlqcH"
      }
    },
    {
      "cell_type": "code",
      "source": [],
      "metadata": {
        "id": "1--uPM88l7JH"
      },
      "execution_count": null,
      "outputs": []
    },
    {
      "cell_type": "markdown",
      "source": [
        "#🔧 Transformación"
      ],
      "metadata": {
        "id": "1lSZP8zmmGZu"
      }
    },
    {
      "cell_type": "code",
      "source": [],
      "metadata": {
        "id": "bsm-WTLjmHvt"
      },
      "execution_count": null,
      "outputs": []
    },
    {
      "cell_type": "markdown",
      "source": [
        "#📊 Carga y análisis"
      ],
      "metadata": {
        "id": "6XnTC2NTmMRL"
      }
    },
    {
      "cell_type": "code",
      "source": [],
      "metadata": {
        "id": "1jgUnLqTmPdd"
      },
      "execution_count": null,
      "outputs": []
    },
    {
      "cell_type": "markdown",
      "source": [
        "#📄Informe final"
      ],
      "metadata": {
        "id": "v-WzfSvTmaw9"
      }
    },
    {
      "cell_type": "code",
      "source": [],
      "metadata": {
        "id": "XMTac0YJmeK9"
      },
      "execution_count": null,
      "outputs": []
    }
  ]
}